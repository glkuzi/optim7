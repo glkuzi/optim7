{
  "nbformat": 4,
  "nbformat_minor": 0,
  "metadata": {
    "colab": {
      "name": "NN_3sq.ipynb",
      "provenance": [],
      "collapsed_sections": []
    },
    "kernelspec": {
      "name": "python3",
      "display_name": "Python 3"
    },
    "accelerator": "GPU"
  },
  "cells": [
    {
      "cell_type": "code",
      "metadata": {
        "id": "qVryeqRegl8J",
        "colab_type": "code",
        "colab": {}
      },
      "source": [
        "import torch\n",
        "from torch.autograd import Variable\n",
        "import torch.nn.functional as F\n",
        "import torch.utils.data as Data\n",
        "\n",
        "import matplotlib.pyplot as plt\n",
        "%matplotlib inline\n",
        "\n",
        "import numpy as np\n",
        "import imageio\n",
        "\n",
        "torch.manual_seed(1)\n",
        "device = torch.device(\"cuda:0\" if torch.cuda.is_available() else \"cpu\")\n",
        "# Code adapted from https://medium.com/@benjamin.phillips22/simple-regression-with-neural-networks-in-pytorch-313f06910379"
      ],
      "execution_count": 0,
      "outputs": []
    },
    {
      "cell_type": "code",
      "metadata": {
        "id": "GvHbbDyBdAiG",
        "colab_type": "code",
        "colab": {}
      },
      "source": [
        "class CustomMSELoss(torch.nn.Module):\n",
        "    '''\n",
        "    Like common MSELoss from pytorch, but return full tensor instead of\n",
        "    sum or mean \n",
        "    '''\n",
        "    def __init__(self):\n",
        "        super().__init__()\n",
        "\n",
        "    def forward(self, preds, targets):\n",
        "        return (preds - targets) ** 2\n",
        "\n",
        "\n",
        "# simple net for regression\n",
        "class Net(torch.nn.Module):\n",
        "    def __init__(self, n_feature, n_hidden, n_output):\n",
        "        super(Net, self).__init__()\n",
        "        self.hidden = torch.nn.Linear(n_feature, n_hidden)   # hidden layer\n",
        "        self.predict = torch.nn.Linear(n_hidden, n_output)   # output layer\n",
        "\n",
        "    def forward(self, x):\n",
        "        x = F.relu(self.hidden(x))      # activation function for hidden layer\n",
        "        x = self.predict(x)             # linear output\n",
        "        return x"
      ],
      "execution_count": 0,
      "outputs": []
    },
    {
      "cell_type": "code",
      "metadata": {
        "id": "dlRv-PZHh2_4",
        "colab_type": "code",
        "colab": {}
      },
      "source": [
        "# set important parameters\n",
        "HIDDEN_SIZE = 50\n",
        "TRAIN_SIZE = 100\n",
        "EPOCHS = 200"
      ],
      "execution_count": 0,
      "outputs": []
    },
    {
      "cell_type": "code",
      "metadata": {
        "id": "kqeyUb53jVoo",
        "colab_type": "code",
        "colab": {}
      },
      "source": [
        "def train_net(net, loss_func, optimizer, device, x, y):\n",
        "    x = x.to(device)\n",
        "    y = y.to(device)\n",
        "    net = net.to(device)\n",
        "    losses = []\n",
        "    for t in range(EPOCHS):\n",
        "        prediction = net(x)     # input x and predict based on x\n",
        "        loss = loss_func(prediction, y)     # must be (1. nn output, 2. target)\n",
        "        optimizer.zero_grad()   # clear gradients for next train\n",
        "        loss.backward()         # backpropagation, compute gradients\n",
        "        optimizer.step()\n",
        "        # item for MSELoss, for CustomMSELoss one should use torch.sum(loss).cpu().item()\n",
        "        losses.append(loss.cpu().item())\n",
        "    return losses"
      ],
      "execution_count": 0,
      "outputs": []
    },
    {
      "cell_type": "code",
      "metadata": {
        "id": "kzeb5sdClc6y",
        "colab_type": "code",
        "colab": {}
      },
      "source": [
        "# How to use:\n",
        "# Choose optimizer with parameters, and create a new optimizer object\n",
        "# Create new net object to train it from start, and run train_net function -\n",
        "# this function return losses on train"
      ],
      "execution_count": 0,
      "outputs": []
    },
    {
      "cell_type": "code",
      "metadata": {
        "id": "L9Kv4g9EkY6-",
        "colab_type": "code",
        "colab": {
          "base_uri": "https://localhost:8080/",
          "height": 296
        },
        "outputId": "a33a5e79-424e-4165-dd75-cb7c86a0872c"
      },
      "source": [
        "x = torch.unsqueeze(torch.linspace(-1, 1, TRAIN_SIZE), dim=1)  # x data (tensor), shape=(100, 1)\n",
        "y = x.pow(2) + 0.2*torch.rand(x.size())                 # noisy y data (tensor), shape=(100, 1)\n",
        "loss_func = torch.nn.MSELoss()  # this is for regression mean squared loss\n",
        "\n",
        "net = Net(n_feature=1, n_hidden=HIDDEN_SIZE, n_output=1)\n",
        "optimizer = torch.optim.Adam(net.parameters())\n",
        "losses = train_net(net, loss_func, optimizer, device, x, y)\n",
        "\n",
        "net = Net(n_feature=1, n_hidden=HIDDEN_SIZE, n_output=1)\n",
        "optimizer = torch.optim.SGD(net.parameters(), lr=0.1)\n",
        "losses_sgd = train_net(net, loss_func, optimizer, device, x, y)\n",
        "\n",
        "plt.plot(losses, label='Adam opt with lr=1e-3')\n",
        "plt.plot(losses_sgd, label='SGD opt with lr=1e-1')\n",
        "plt.ylabel('Loss')\n",
        "plt.xlabel('Epoch')\n",
        "plt.legend()"
      ],
      "execution_count": 20,
      "outputs": [
        {
          "output_type": "execute_result",
          "data": {
            "text/plain": [
              "<matplotlib.legend.Legend at 0x7f8bc8a8fba8>"
            ]
          },
          "metadata": {
            "tags": []
          },
          "execution_count": 20
        },
        {
          "output_type": "display_data",
          "data": {
            "image/png": "[encoded data removed]",
            "text/plain": [
              "<Figure size 432x288 with 1 Axes>"
            ]
          },
          "metadata": {
            "tags": [],
            "needs_background": "light"
          }
        }
      ]
    },
    {
      "cell_type": "code",
      "metadata": {
        "id": "lZHMcsG9cqeM",
        "colab_type": "code",
        "colab": {}
      },
      "source": [
        ""
      ],
      "execution_count": 0,
      "outputs": []
    }
  ]
}