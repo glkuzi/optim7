{
  "nbformat": 4,
  "nbformat_minor": 0,
  "metadata": {
    "colab": {
      "name": "OptExamples.ipynb",
      "provenance": [],
      "collapsed_sections": []
    },
    "kernelspec": {
      "name": "python3",
      "display_name": "Python 3"
    }
  },
  "cells": [
    {
      "cell_type": "code",
      "metadata": {
        "id": "UCAXZ-PpX55P",
        "colab_type": "code",
        "colab": {}
      },
      "source": [
        "import numpy as np"
      ],
      "execution_count": 0,
      "outputs": []
    },
    {
      "cell_type": "markdown",
      "metadata": {
        "id": "GurwNPGqZHrC",
        "colab_type": "text"
      },
      "source": [
        "##Функция"
      ]
    },
    {
      "cell_type": "code",
      "metadata": {
        "id": "JlueChd1YEno",
        "colab_type": "code",
        "colab": {}
      },
      "source": [
        "def nest_skok(x):\n",
        "    f = 0.25 * (x[0] - 1) ** 2 + np.sum([(x1 - 2 * x0 ** 2 + 1) ** 2 for (x1, x0) in zip(x[1:], x[:-2])])\n",
        "    return f"
      ],
      "execution_count": 0,
      "outputs": []
    },
    {
      "cell_type": "code",
      "metadata": {
        "id": "XMIGhowGbLGt",
        "colab_type": "code",
        "colab": {}
      },
      "source": [
        "def grad_nest_skok(x):\n",
        "    df = 0.5 * (x[0] - 1) + np.sum([(2 - 8 * x0) * (x1 - 2 * x0 ** 2 + 1) for (x1, x0) in zip(x[1:], x[:-2])])\n",
        "    return df"
      ],
      "execution_count": 0,
      "outputs": []
    },
    {
      "cell_type": "code",
      "metadata": {
        "id": "kVFa4FN_GLAJ",
        "colab_type": "code",
        "colab": {}
      },
      "source": [
        "def grad2_nest_skok(x):\n",
        "    d2f = 0.5 + np.sum([(2 - 8 * (x1 - 6 * (x0 ** 2) + 1)) for (x1, x0) in zip(x[1:], x[:-2])])\n",
        "    return d2f"
      ],
      "execution_count": 0,
      "outputs": []
    },
    {
      "cell_type": "code",
      "metadata": {
        "id": "a6Sb7Zh9YvQa",
        "colab_type": "code",
        "outputId": "80e202fe-ccbd-49a5-97dc-d5915ae42ff2",
        "colab": {
          "base_uri": "https://localhost:8080/",
          "height": 69
        }
      },
      "source": [
        "x = [-1, 1, 1]\n",
        "print('x:', x)\n",
        "print('f(x):', nest_skok(x))\n",
        "print('df(x):', grad_nest_skok(x))"
      ],
      "execution_count": 4,
      "outputs": [
        {
          "output_type": "stream",
          "text": [
            "x: [-1, 1, 1]\n",
            "f(x): 1.0\n",
            "df(x): -1.0\n"
          ],
          "name": "stdout"
        }
      ]
    },
    {
      "cell_type": "markdown",
      "metadata": {
        "id": "OphoVEr_ZBAS",
        "colab_type": "text"
      },
      "source": [
        "##Градиентный спуск"
      ]
    },
    {
      "cell_type": "code",
      "metadata": {
        "id": "ts4UJ0F7LGos",
        "colab_type": "code",
        "colab": {}
      },
      "source": [
        "def gradient_descent(lr, x0, steps):\n",
        "    x_prev = x0\n",
        "    for i in range(steps):\n",
        "        x = x_prev - lr * grad_nest_skok(x_prev)\n",
        "        x_prev = x\n",
        "    return x"
      ],
      "execution_count": 0,
      "outputs": []
    },
    {
      "cell_type": "code",
      "metadata": {
        "id": "xW7kTPBdY1rm",
        "colab_type": "code",
        "colab": {
          "base_uri": "https://localhost:8080/",
          "height": 52
        },
        "outputId": "985c648d-48a6-45bd-a9fe-eea74efec18f"
      },
      "source": [
        "lr = 1e-4\n",
        "x0 = [-1, 1, 1, 1]\n",
        "steps = 100\n",
        "print('Before:', x0, nest_skok(x0))\n",
        "x = gradient_descent(lr, x0, steps)\n",
        "print('After:', x, nest_skok(x))"
      ],
      "execution_count": 15,
      "outputs": [
        {
          "output_type": "stream",
          "text": [
            "Before: [-1, 1, 1, 1] 1.0\n",
            "After: [-0.99273903  1.00726097  1.00726097  1.00726097] 0.9945417091479689\n"
          ],
          "name": "stdout"
        }
      ]
    },
    {
      "cell_type": "markdown",
      "metadata": {
        "id": "e4V8qeicZNWb",
        "colab_type": "text"
      },
      "source": [
        "##Стандартный метод Гаусса-Ньютона"
      ]
    },
    {
      "cell_type": "code",
      "metadata": {
        "id": "Bkq06FkFLYE8",
        "colab_type": "code",
        "colab": {}
      },
      "source": [
        "def gn_method(x0, steps):\n",
        "    x_prev = x0\n",
        "    for i in range(steps):\n",
        "        x = x_prev - (grad2_nest_skok(x_prev)) ** (-1) * grad_nest_skok(x_prev)\n",
        "        x_prev = x\n",
        "    return x"
      ],
      "execution_count": 0,
      "outputs": []
    },
    {
      "cell_type": "code",
      "metadata": {
        "id": "Cb4GJUzmZSrU",
        "colab_type": "code",
        "colab": {
          "base_uri": "https://localhost:8080/",
          "height": 52
        },
        "outputId": "d665cf4a-af5f-4822-d432-b3bcca69dd5e"
      },
      "source": [
        "x0 = [-1, 1, 1, 1]\n",
        "steps = 100\n",
        "print('Before:', x0, nest_skok(x0))\n",
        "x = gn_method(x0, steps)\n",
        "print('After:', x, nest_skok(x))"
      ],
      "execution_count": 17,
      "outputs": [
        {
          "output_type": "stream",
          "text": [
            "Before: [-1, 1, 1, 1] 1.0\n",
            "After: [-0.98532751  1.01467249  1.01467249  1.01467249] 0.9926760182169204\n"
          ],
          "name": "stdout"
        }
      ]
    },
    {
      "cell_type": "markdown",
      "metadata": {
        "id": "VaVk2OyFZTMQ",
        "colab_type": "text"
      },
      "source": [
        "##Модифицированный метод Гаусса-Ньютона"
      ]
    },
    {
      "cell_type": "code",
      "metadata": {
        "id": "_IeKAX16ZVGB",
        "colab_type": "code",
        "colab": {}
      },
      "source": [
        "def phi(x):\n",
        "    return np.sum(x ** 2)\n",
        "\n",
        "\n",
        "def psi(x, y):\n",
        "    return phi(nest_skok(x) - grad_nest_skok(x) * (np.array(y) - np.array(x)))\n",
        "\n",
        "\n",
        "def vmk(x, ys, M):\n",
        "    vals = []\n",
        "    for y in ys:\n",
        "        buf = psi(x, y) - 0.5 * M * np.sum((np.array(y) - np.array(x)) ** 2)\n",
        "        vals.append(buf)\n",
        "    res = ys[np.argmin(vals)]\n",
        "    return res, np.min(vals)"
      ],
      "execution_count": 0,
      "outputs": []
    },
    {
      "cell_type": "code",
      "metadata": {
        "id": "aBtmWNq_MTsi",
        "colab_type": "code",
        "colab": {
          "base_uri": "https://localhost:8080/",
          "height": 34
        },
        "outputId": "5e6b0c20-e700-4c35-dd81-7b12a3a43339"
      },
      "source": [
        "x = [-1, 1, 1]\n",
        "ys = [[-2, 1, 1], [0, 1, 1]]\n",
        "x_min, fm = vmk(x, ys, 1)\n",
        "print(x_min, fm)"
      ],
      "execution_count": 29,
      "outputs": [
        {
          "output_type": "stream",
          "text": [
            "[-2, 1, 1] 1.5\n"
          ],
          "name": "stdout"
        }
      ]
    },
    {
      "cell_type": "markdown",
      "metadata": {
        "id": "WtkyFK3wZViK",
        "colab_type": "text"
      },
      "source": [
        "##Метод трех квадратов"
      ]
    },
    {
      "cell_type": "code",
      "metadata": {
        "id": "h8uonSLdZaoq",
        "colab_type": "code",
        "colab": {}
      },
      "source": [
        ""
      ],
      "execution_count": 0,
      "outputs": []
    },
    {
      "cell_type": "markdown",
      "metadata": {
        "id": "FelqdGsJZdTG",
        "colab_type": "text"
      },
      "source": [
        "##Адаптивные варианты методов"
      ]
    },
    {
      "cell_type": "code",
      "metadata": {
        "id": "JcqhHieSZgsL",
        "colab_type": "code",
        "colab": {}
      },
      "source": [
        ""
      ],
      "execution_count": 0,
      "outputs": []
    }
  ]
}