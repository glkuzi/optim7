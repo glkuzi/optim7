{
  "nbformat": 4,
  "nbformat_minor": 0,
  "metadata": {
    "colab": {
      "name": "OptExamples.ipynb",
      "provenance": [],
      "collapsed_sections": []
    },
    "kernelspec": {
      "name": "python3",
      "display_name": "Python 3"
    }
  },
  "cells": [
    {
      "cell_type": "code",
      "metadata": {
        "id": "UCAXZ-PpX55P",
        "colab_type": "code",
        "colab": {}
      },
      "source": [
        "import numpy as np"
      ],
      "execution_count": 0,
      "outputs": []
    },
    {
      "cell_type": "markdown",
      "metadata": {
        "id": "GurwNPGqZHrC",
        "colab_type": "text"
      },
      "source": [
        "##Функция"
      ]
    },
    {
      "cell_type": "code",
      "metadata": {
        "id": "JlueChd1YEno",
        "colab_type": "code",
        "colab": {}
      },
      "source": [
        "def nest_skok(x):\n",
        "    f = 0.25 * (x[0] - 1) ** 2 + np.sum([(x1 - 2 * x0 ** 2 + 1) ** 2 for (x1, x0) in zip(x[1:], x[:-2])])\n",
        "    return f"
      ],
      "execution_count": 0,
      "outputs": []
    },
    {
      "cell_type": "code",
      "metadata": {
        "id": "XMIGhowGbLGt",
        "colab_type": "code",
        "colab": {}
      },
      "source": [
        "def grad_nest_skok(x):\n",
        "    df = 0.5 * (x[0] - 1) + np.sum([(2 - 8 * x0) * (x1 - 2 * x0 ** 2 + 1) for (x1, x0) in zip(x[1:], x[:-2])])\n",
        "    return df"
      ],
      "execution_count": 0,
      "outputs": []
    },
    {
      "cell_type": "code",
      "metadata": {
        "id": "kVFa4FN_GLAJ",
        "colab_type": "code",
        "colab": {}
      },
      "source": [
        "def grad2_nest_skok(x):\n",
        "    d2f = 0.5 + np.sum([(2 - 8 * (x1 - 6 * (x0 ** 2) + 1)) for (x1, x0) in zip(x[1:], x[:-2])])\n",
        "    return d2f"
      ],
      "execution_count": 0,
      "outputs": []
    },
    {
      "cell_type": "code",
      "metadata": {
        "id": "a6Sb7Zh9YvQa",
        "colab_type": "code",
        "outputId": "ccbd486e-07f2-484b-e743-6cac64577b9e",
        "colab": {
          "base_uri": "https://localhost:8080/",
          "height": 69
        }
      },
      "source": [
        "x = [-1, 1, 1]\n",
        "print('x:', x)\n",
        "print('f(x):', nest_skok(x))\n",
        "print('df(x):', grad_nest_skok(x))"
      ],
      "execution_count": 51,
      "outputs": [
        {
          "output_type": "stream",
          "text": [
            "x: [-1, 1, 1]\n",
            "f(x): 1.0\n",
            "df(x): -1.0\n"
          ],
          "name": "stdout"
        }
      ]
    },
    {
      "cell_type": "markdown",
      "metadata": {
        "id": "OphoVEr_ZBAS",
        "colab_type": "text"
      },
      "source": [
        "##Градиентный спуск"
      ]
    },
    {
      "cell_type": "code",
      "metadata": {
        "id": "ts4UJ0F7LGos",
        "colab_type": "code",
        "colab": {}
      },
      "source": [
        "def gradient_descent(lr, x0, steps):\n",
        "    x_prev = x0\n",
        "    for i in range(steps):\n",
        "        x = x_prev - lr * grad_nest_skok(x_prev)\n",
        "        x_prev = x\n",
        "    return x"
      ],
      "execution_count": 0,
      "outputs": []
    },
    {
      "cell_type": "code",
      "metadata": {
        "id": "xW7kTPBdY1rm",
        "colab_type": "code",
        "outputId": "5b6dd355-8566-44ff-d687-84612f9ee8f1",
        "colab": {
          "base_uri": "https://localhost:8080/",
          "height": 52
        }
      },
      "source": [
        "lr = 1e-4\n",
        "x0 = [-1, 1, 1, 1]\n",
        "steps = 100\n",
        "print('Before:', x0, nest_skok(x0))\n",
        "x = gradient_descent(lr, x0, steps)\n",
        "print('After:', x, nest_skok(x))"
      ],
      "execution_count": 53,
      "outputs": [
        {
          "output_type": "stream",
          "text": [
            "Before: [-1, 1, 1, 1] 1.0\n",
            "After: [-0.99273903  1.00726097  1.00726097  1.00726097] 0.9945417091479689\n"
          ],
          "name": "stdout"
        }
      ]
    },
    {
      "cell_type": "markdown",
      "metadata": {
        "id": "e4V8qeicZNWb",
        "colab_type": "text"
      },
      "source": [
        "##Стандартный метод Гаусса-Ньютона"
      ]
    },
    {
      "cell_type": "code",
      "metadata": {
        "id": "Bkq06FkFLYE8",
        "colab_type": "code",
        "colab": {}
      },
      "source": [
        "def gn_method(x0, steps):\n",
        "    x_prev = x0\n",
        "    for i in range(steps):\n",
        "        x = x_prev - (grad2_nest_skok(x_prev)) ** (-1) * grad_nest_skok(x_prev)\n",
        "        x_prev = x\n",
        "    return x"
      ],
      "execution_count": 0,
      "outputs": []
    },
    {
      "cell_type": "code",
      "metadata": {
        "id": "Cb4GJUzmZSrU",
        "colab_type": "code",
        "outputId": "307a7049-865a-4d93-b605-c261fe6adcfd",
        "colab": {
          "base_uri": "https://localhost:8080/",
          "height": 52
        }
      },
      "source": [
        "x0 = [-1, 1, 1, 1]\n",
        "steps = 100\n",
        "print('Before:', x0, nest_skok(x0))\n",
        "x = gn_method(x0, steps)\n",
        "print('After:', x, nest_skok(x))"
      ],
      "execution_count": 55,
      "outputs": [
        {
          "output_type": "stream",
          "text": [
            "Before: [-1, 1, 1, 1] 1.0\n",
            "After: [-0.98532751  1.01467249  1.01467249  1.01467249] 0.9926760182169204\n"
          ],
          "name": "stdout"
        }
      ]
    },
    {
      "cell_type": "markdown",
      "metadata": {
        "id": "VaVk2OyFZTMQ",
        "colab_type": "text"
      },
      "source": [
        "##Модифицированный метод Гаусса-Ньютона"
      ]
    },
    {
      "cell_type": "code",
      "metadata": {
        "id": "Z55PSv_lV9j5",
        "colab_type": "code",
        "colab": {
          "base_uri": "https://localhost:8080/",
          "height": 52
        },
        "outputId": "2f433d1c-f307-4ab5-e76c-e5ba992b098c"
      },
      "source": [
        "def f_tau(x, tau, M):\n",
        "    fx = nest_skok(x)\n",
        "    dfx = grad_nest_skok(x)\n",
        "    dfx_t = dfx\n",
        "    g = dfx_t * fx\n",
        "    return tau + np.sqrt(fx ** 2) ** 2 / tau - (1 / (tau * dfx_t * dfx + tau ** 2 * M) * g * g)\n",
        "\n",
        "\n",
        "def df_tau(x, tau, M):\n",
        "    fx = nest_skok(x)\n",
        "    dfx = grad_nest_skok(x)\n",
        "    dfx_t = dfx\n",
        "    g = dfx_t * fx\n",
        "    return 1 - np.sqrt(fx ** 2) ** 2 / tau ** 2 - (1 / (dfx_t * dfx + 2 * tau * M) * g * g)\n",
        "\n",
        "\n",
        "def h(x, tau, M):\n",
        "    fx = nest_skok(x)\n",
        "    dfx = grad_nest_skok(x)\n",
        "    dfx_t = dfx\n",
        "    return (-1 / M) * dfx_t *  (1 / (tau + 1 / M * dfx * dfx_t)) * fx\n",
        "\n",
        "\n",
        "def search_tau(x, tau, M, steps=100):\n",
        "    tau_prev = tau\n",
        "    for k in range(steps):\n",
        "        tau = tau_prev - f_tau(x, tau_prev, M) / df_tau(x, tau_prev, M)\n",
        "        tau_prev = tau\n",
        "    return tau\n",
        "\n",
        "\n",
        "def get_vmk(x, M):\n",
        "    tau = 0.1\n",
        "    tau = search_tau(x, tau, M)\n",
        "    h_cur = h(x, tau, M)\n",
        "    vmk = np.sqrt((x - h_cur) ** 2)\n",
        "    return vmk\n",
        "\n",
        "\n",
        "def fm(x, y, M):\n",
        "    return np.sqrt(np.sum((nest_skok(x) + grad_nest_skok(x) * (y - x)) ** 2)) + 0.5 * M * np.sum((y - x) ** 2)\n",
        "\n",
        "\n",
        "def mod_gauss(x0, L0, L, steps=100):\n",
        "    Mks = np.linspace(L0, 2*L)\n",
        "    x_prev = x0\n",
        "    x = x_prev\n",
        "    for k in range(steps):\n",
        "        for Mk in Mks:\n",
        "            vmk = get_vmk(x_prev, Mk)\n",
        "            if fm(vmk, vmk, Mk) <= fm(x_prev, vmk, Mk):\n",
        "                x = vmk\n",
        "                x_prev = x\n",
        "                fl = True\n",
        "                break\n",
        "    return x\n",
        "\n",
        "\n",
        "x0 = [-1, 1, 1]\n",
        "L = 1e4\n",
        "L0 = L / 2\n",
        "x = mod_gauss(x0, L0, L)\n",
        "print(x)\n",
        "print(nest_skok(x))"
      ],
      "execution_count": 63,
      "outputs": [
        {
          "output_type": "stream",
          "text": [
            "[1.02763107 1.02751045 1.02751045]\n",
            "0.007338010915004839\n"
          ],
          "name": "stdout"
        }
      ]
    },
    {
      "cell_type": "markdown",
      "metadata": {
        "id": "WtkyFK3wZViK",
        "colab_type": "text"
      },
      "source": [
        "##Метод трех квадратов"
      ]
    },
    {
      "cell_type": "code",
      "metadata": {
        "id": "h8uonSLdZaoq",
        "colab_type": "code",
        "colab": {}
      },
      "source": [
        ""
      ],
      "execution_count": 0,
      "outputs": []
    },
    {
      "cell_type": "markdown",
      "metadata": {
        "id": "FelqdGsJZdTG",
        "colab_type": "text"
      },
      "source": [
        "##Адаптивные варианты методов"
      ]
    },
    {
      "cell_type": "code",
      "metadata": {
        "id": "JcqhHieSZgsL",
        "colab_type": "code",
        "colab": {}
      },
      "source": [
        ""
      ],
      "execution_count": 0,
      "outputs": []
    }
  ]
}