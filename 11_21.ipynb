{
  "nbformat": 4,
  "nbformat_minor": 0,
  "metadata": {
    "colab": {
      "name": "11_21.ipynb",
      "provenance": [],
      "collapsed_sections": []
    },
    "kernelspec": {
      "name": "python3",
      "display_name": "Python 3"
    }
  },
  "cells": [
    {
      "cell_type": "code",
      "metadata": {
        "id": "f6AJBPQbSffZ",
        "colab_type": "code",
        "colab": {}
      },
      "source": [
        "import numpy as np\n",
        "import torch\n",
        "seed = 86\n",
        "torch.manual_seed(seed)\n",
        "torch.backends.cudnn.deterministic = True\n",
        "torch.backends.cudnn.benchmark = False\n",
        "np.random.seed(seed)"
      ],
      "execution_count": 0,
      "outputs": []
    },
    {
      "cell_type": "code",
      "metadata": {
        "id": "q6rwrZZoUX_u",
        "colab_type": "code",
        "colab": {}
      },
      "source": [
        "class ChebModel(torch.nn.Module):\n",
        "    def __init__(self, m, n):\n",
        "        super(ChebModel, self).__init__()\n",
        "        self.A = torch.rand((m, n), dtype=torch.float32)\n",
        "        self.b = torch.rand((m), dtype=torch.float32)\n",
        "        self.x = torch.nn.Parameter(torch.rand((n)))\n",
        "    \n",
        "    def forward(self):\n",
        "        return self.A @ self.x, self.b, self.x\n",
        "\n",
        "\n",
        "# implementation of loss function for 11.21 in Boyd. Used simple barrier for\n",
        "# l <= x <= u.\n",
        "class ChebLoss(torch.nn.Module):\n",
        "    def __init__(self):\n",
        "        super(ChebLoss, self).__init__()\n",
        "    \n",
        "    def penalty(self, x, l, u):\n",
        "        buf = 0\n",
        "        if all(x < l) and all(x > u):\n",
        "            buf = 1e8\n",
        "        return buf\n",
        "\n",
        "    def forward(self, ax, x, b, l, u):\n",
        "        buf_loss = torch.max(torch.abs(torch.log(ax) - torch.log(b)))\n",
        "        loss = buf_loss + self.penalty(x, l, u)\n",
        "        return loss"
      ],
      "execution_count": 0,
      "outputs": []
    },
    {
      "cell_type": "code",
      "metadata": {
        "id": "RWXVl09WZNzW",
        "colab_type": "code",
        "colab": {
          "base_uri": "https://localhost:8080/",
          "height": 364
        },
        "outputId": "2f63a425-9b18-40fa-c35a-682ffb9769db"
      },
      "source": [
        "# train loop\n",
        "m = 5\n",
        "n = 4\n",
        "x0 = torch.rand((n))\n",
        "l = torch.rand((n)) - 0.5 * torch.ones((n))\n",
        "u = torch.rand((n)) + 0.5 * torch.ones((n))\n",
        "model = ChebModel(m, n)\n",
        "criterion = ChebLoss()\n",
        "opt = torch.optim.Adam(model.parameters(), lr=1e-1)\n",
        "epochs = 20\n",
        "x = x0\n",
        "for e in range(epochs):\n",
        "    opt.zero_grad()\n",
        "    ax, b, x = model()\n",
        "    loss = criterion(ax, x, b, l, u)\n",
        "    loss.backward()\n",
        "    opt.step()\n",
        "    print(loss.item())"
      ],
      "execution_count": 36,
      "outputs": [
        {
          "output_type": "stream",
          "text": [
            "1.4599155187606812\n",
            "1.2929039001464844\n",
            "1.0920997858047485\n",
            "0.8404083251953125\n",
            "1.158708930015564\n",
            "1.1534702777862549\n",
            "0.9957976937294006\n",
            "0.7982392311096191\n",
            "0.7310773730278015\n",
            "0.791340172290802\n",
            "0.801403820514679\n",
            "0.7731611132621765\n",
            "0.709769070148468\n",
            "0.6084035634994507\n",
            "0.7596017122268677\n",
            "0.8102293014526367\n",
            "0.6938321590423584\n",
            "0.6101372241973877\n",
            "0.6676223278045654\n",
            "0.6879820227622986\n"
          ],
          "name": "stdout"
        }
      ]
    },
    {
      "cell_type": "code",
      "metadata": {
        "id": "16OfXv6FZZwZ",
        "colab_type": "code",
        "colab": {}
      },
      "source": [
        ""
      ],
      "execution_count": 0,
      "outputs": []
    }
  ]
}