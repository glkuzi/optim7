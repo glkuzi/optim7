{
  "nbformat": 4,
  "nbformat_minor": 0,
  "metadata": {
    "colab": {
      "name": "Untitled2.ipynb",
      "provenance": []
    },
    "kernelspec": {
      "name": "python3",
      "display_name": "Python 3"
    }
  },
  "cells": [
    {
      "cell_type": "markdown",
      "metadata": {
        "id": "7iqFbD_tGJJn",
        "colab_type": "text"
      },
      "source": [
        "Consensus optimizztion"
      ]
    },
    {
      "cell_type": "markdown",
      "metadata": {
        "id": "hT2Ttb2qGTYD",
        "colab_type": "text"
      },
      "source": [
        "Using cvxpy:"
      ]
    },
    {
      "cell_type": "code",
      "metadata": {
        "id": "SyKYbD8oWCl5",
        "colab_type": "code",
        "colab": {}
      },
      "source": [
        "import numpy as np\n",
        "import time\n",
        "\n",
        "np.random.seed(1)\n",
        "\n",
        "m = 10\n",
        "n = 20\n",
        "A = np.random.rand(m, n)\n",
        "y = np.random.rand(m,)\n",
        "\n",
        "#син"
      ],
      "execution_count": 0,
      "outputs": []
    },
    {
      "cell_type": "code",
      "metadata": {
        "id": "XmgEjPsCWEZc",
        "colab_type": "code",
        "colab": {}
      },
      "source": [
        "import cvxpy as cp\n",
        "\n",
        "x = cp.Variable(shape=n)\n",
        "\n",
        "delta = A @ x - y"
      ],
      "execution_count": 0,
      "outputs": []
    },
    {
      "cell_type": "code",
      "metadata": {
        "id": "fhvqxtZhWE-H",
        "colab_type": "code",
        "outputId": "eac92560-b110-4ad7-86fb-8e9e1cc0fbe8",
        "colab": {
          "base_uri": "https://localhost:8080/",
          "height": 34
        }
      },
      "source": [
        "from cvxpy import *\n",
        "import numpy as np\n",
        "from multiprocessing import Process, Pipe\n",
        "\n",
        "# Number of terms f_i. Choose N so that m / N - integer\n",
        "N = 2\n",
        "    \n",
        "length = m // N\n",
        "\n",
        "# A list of all the A_i.\n",
        "A_list = [A[i * length: (i + 1) * length] for i in range(N)]\n",
        "# A list of all the y_i\n",
        "y_list = [y[i * length: (i + 1) * length] for i in range(N)]\n",
        "\n",
        "# Set MAX_ITER\n",
        "MAX_ITER = 5000\n",
        "\n",
        "start = time.time()\n",
        "\n",
        "def run_cxvpy(A, y, x0, pipe):\n",
        "    \n",
        "    x = cp.Variable(n, value=x0)\n",
        "    f = cp.sum_squares(A @ x - y)\n",
        "    prox = Problem(Minimize(f))\n",
        "    # ADMM loop.\n",
        "    i = 0\n",
        "    while True:\n",
        "        #print(i, end='\\n')\n",
        "        i += 1\n",
        "        prox.solve()\n",
        "        pipe.send(x.value)\n",
        "        x.value = pipe.recv()\n",
        "\n",
        "\n",
        "x0 = np.random.rand(n)\n",
        "error = np.absolute(A.dot(x0) - y).mean()\n",
        "#print(error)\n",
        "cvxpy_errors = [error]\n",
        "# Setup the workers.\n",
        "pipes = []\n",
        "procs = []\n",
        "for i in range(N):\n",
        "    local, remote = Pipe()\n",
        "    pipes += [local]\n",
        "    procs += [Process(target=run_cxvpy, args=(A_list[i], y_list[i], x0, remote))]\n",
        "    procs[-1].start()\n",
        "\n",
        "# ADMM loop.\n",
        "for i in range(MAX_ITER):\n",
        "    #print(i, end='\\n')\n",
        "    # Gather and average xi\n",
        "    x_local = [pipe.recv() for pipe in pipes]\n",
        "    xbar = sum(x_local) / N\n",
        "    error = np.absolute(A.dot(xbar) - y).mean()\n",
        "    #print(error)\n",
        "    cvxpy_errors.append(error)\n",
        "    #print(xbar)\n",
        "    # Scatter xbar\n",
        "    for pipe in pipes:\n",
        "        pipe.send(xbar)\n",
        "\n",
        "cvxpy_time = time.time() - start\n",
        "\n",
        "[p.terminate() for p in procs]\n",
        "print('OK!')"
      ],
      "execution_count": 3,
      "outputs": [
        {
          "output_type": "stream",
          "text": [
            "OK!\n"
          ],
          "name": "stdout"
        }
      ]
    },
    {
      "cell_type": "markdown",
      "metadata": {
        "id": "_5foScboGZr0",
        "colab_type": "text"
      },
      "source": [
        "Using torch:"
      ]
    },
    {
      "cell_type": "code",
      "metadata": {
        "id": "HDGph0TL7Pa0",
        "colab_type": "code",
        "colab": {}
      },
      "source": [
        "import torch\n",
        "\n",
        "A_t = torch.tensor(A, dtype=torch.float32)\n",
        "y_t = torch.tensor(y, dtype=torch.float32)"
      ],
      "execution_count": 0,
      "outputs": []
    },
    {
      "cell_type": "code",
      "metadata": {
        "id": "CILco2RMW6Mp",
        "colab_type": "code",
        "outputId": "ba55b505-74d7-43f0-c9dd-296eae0cc26d",
        "colab": {
          "base_uri": "https://localhost:8080/",
          "height": 34
        }
      },
      "source": [
        "import torch\n",
        "\n",
        "\n",
        "start = time.time()\n",
        "\n",
        "def run_torch(A, y, x0, pipe):\n",
        "\n",
        "    #print('Start')\n",
        "    A_t = torch.tensor(A, dtype=torch.float32)\n",
        "    y_t = torch.tensor(y, dtype=torch.float32)\n",
        "    x = torch.tensor(x0, dtype=torch.float32, requires_grad=True)\n",
        "    opt = torch.optim.SGD([x], lr=1e-3)\n",
        "    loss_fn = torch.nn.MSELoss()\n",
        "    # ADMM loop.\n",
        "    i = 0\n",
        "    #print('Go')\n",
        "    while True:\n",
        "        #print(i, end='\\r')\n",
        "        i += 1\n",
        "        #print(i)\n",
        "        loss = loss_fn(A_t @ x, y_t)\n",
        "        #print('loss = {}'.format(loss))\n",
        "        loss.backward()\n",
        "        #print('backward')\n",
        "        opt.step()\n",
        "        opt.zero_grad()\n",
        "        pipe.send(x.detach())\n",
        "        #print('end send')\n",
        "        #print(pipe.recv())\n",
        "        for i, x_i in enumerate(pipe.recv().data):\n",
        "            x.data[i] = x_i\n",
        "\n",
        "\n",
        "x0_t = torch.tensor(x0, dtype=torch.float32)\n",
        "error = (A_t @ x0 - y_t).abs().mean()\n",
        "#print(error)\n",
        "torch_errors = [error]\n",
        "# Setup the workers.\n",
        "pipes = []\n",
        "procs = []\n",
        "for i in range(N):\n",
        "    local, remote = Pipe()\n",
        "    pipes += [local]\n",
        "    procs += [Process(target=run_torch, args=(A_list[i], y_list[i], x0, remote))]\n",
        "    procs[-1].start()\n",
        "\n",
        "# ADMM loop.\n",
        "for i in range(MAX_ITER):\n",
        "    #print(i, end='\\r')\n",
        "    # Gather and average xi\n",
        "    x_local = [pipe.recv() for pipe in pipes]\n",
        "    xbar = sum(x_local) / N\n",
        "    #print(xbar)\n",
        "    error = (A_t @ xbar - y_t).abs().mean()\n",
        "    #print(error)\n",
        "    torch_errors.append(error)\n",
        "    #print(xbar)\n",
        "    # Scatter xbar\n",
        "    for pipe in pipes:\n",
        "        pipe.send(xbar)\n",
        "torch_time = time.time() - start\n",
        "\n",
        "[p.terminate() for p in procs]\n",
        "print('OK!')"
      ],
      "execution_count": 5,
      "outputs": [
        {
          "output_type": "stream",
          "text": [
            "OK!\n"
          ],
          "name": "stdout"
        }
      ]
    },
    {
      "cell_type": "markdown",
      "metadata": {
        "id": "DOf1ccICGcyt",
        "colab_type": "text"
      },
      "source": [
        "Results:"
      ]
    },
    {
      "cell_type": "code",
      "metadata": {
        "id": "jxuAjrWFX293",
        "colab_type": "code",
        "colab": {
          "base_uri": "https://localhost:8080/",
          "height": 354
        },
        "outputId": "a52f8dcd-2738-4e2e-9754-84dba049e627"
      },
      "source": [
        "import matplotlib.pyplot as plt\n",
        "\n",
        "fig, ax = plt.subplots()\n",
        "ax.plot(range(MAX_ITER + 1), cvxpy_errors, label='cvxpy')\n",
        "ax.plot(range(MAX_ITER + 1), torch_errors, label='torch')\n",
        "ax.legend()\n",
        "\n",
        "print('cvxpy_time = {}'.format(cvxpy_time))\n",
        "print('torch_time = {}'.format(torch_time))\n",
        "\n",
        "fig.set_figheight(5)\n",
        "fig.set_figwidth(8)\n",
        "plt.show()"
      ],
      "execution_count": 6,
      "outputs": [
        {
          "output_type": "stream",
          "text": [
            "cvxpy_time = 45.633728981018066\n",
            "torch_time = 14.028751850128174\n"
          ],
          "name": "stdout"
        },
        {
          "output_type": "display_data",
          "data": {
            "image/png": "[encoded data removed]",
            "text/plain": [
              "<Figure size 576x360 with 1 Axes>"
            ]
          },
          "metadata": {
            "tags": [],
            "needs_background": "light"
          }
        }
      ]
    },
    {
      "cell_type": "code",
      "metadata": {
        "id": "XJn05fR82IBd",
        "colab_type": "code",
        "colab": {}
      },
      "source": [
        ""
      ],
      "execution_count": 0,
      "outputs": []
    }
  ]
}